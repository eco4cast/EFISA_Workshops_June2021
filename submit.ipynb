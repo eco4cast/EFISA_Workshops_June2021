{
 "cells": [
  {
   "cell_type": "markdown",
   "id": "b7372491",
   "metadata": {},
   "source": [
    "# Submitting to the challenge\n",
    "Anna Spiers, University of Colorado | Boulder  \n",
    "EFISA Early Career Workshop, 14-15 June 2021"
   ]
  },
  {
   "cell_type": "markdown",
   "id": "9de618d5",
   "metadata": {},
   "source": [
    "Planning  \n",
    "~15min presentation\n",
    "outline discussion points and learning objectives\n",
    "quick hacks and ways to make this easier to newcomers\n",
    "https://projects.ecoforecast.org/neon4cast-docs/frequently-asked-questions.html\n",
    "https://docs.google.com/document/d/1Xxyt-1LFHCE-CBwF_qad2sWHMHJoZVJdrOyK4ydjeR0/edit?pli=1 \n"
   ]
  },
  {
   "cell_type": "markdown",
   "id": "e7bd590b",
   "metadata": {},
   "source": [
    "### Create team \n",
    "* https://nd.qualtrics.com/jfe/form/SV_9MJ29y2xNrBOjqZ \n",
    "\n"
   ]
  },
  {
   "cell_type": "markdown",
   "id": "e339211e",
   "metadata": {},
   "source": [
    "### Create forecast \n",
    "* how to build off of Alexey’s tutorial?\n",
    "* https://projects.ecoforecast.org/neon4cast-docs/submission-instructions.html#forecast-format\n",
    "* csv or NetCDF format\n",
    "* specified columns for each challenge\n",
    "\n",
    "\n"
   ]
  },
  {
   "cell_type": "markdown",
   "id": "03db09f6",
   "metadata": {},
   "source": [
    "### Create metadata\n",
    "* https://projects.ecoforecast.org/neon4cast-docs/submission-instructions.html#metadata-format\n",
    "* xml format\n",
    "* what is an eml file?\n",
    "\n"
   ]
  },
  {
   "cell_type": "markdown",
   "id": "2d13f24d",
   "metadata": {},
   "source": [
    "### Submit! - \n",
    "* https://projects.ecoforecast.org/neon4cast-docs/submission-instructions.html#submission-process\n",
    "* validate submission at https://projects.ecoforecast.org/neon4cast-docs/submission-instructions.html#validating-submission\n",
    "\n"
   ]
  },
  {
   "cell_type": "markdown",
   "id": "41e8afa3",
   "metadata": {},
   "source": [
    "### RCN Shiny Evaluation App \n",
    "* visualize at  https://shiny.ecoforecast.org/ "
   ]
  },
  {
   "cell_type": "markdown",
   "id": "1a4a289a",
   "metadata": {},
   "source": [
    "###### Timeline:\n",
    "\n",
    "Friday, May 28: have outline of tutorials drafted (slides and skeleton R script), coordinate with other workshop leaders to make sure you have or at least have identified the code/resources needed to complete your tutorial\n",
    "\n",
    "Week of May 31: continue working on tutorial materials\n",
    "\n",
    "Wednesday, June 9: recorded tutorials due to co-chairs (upload to shared Google Drive)\n",
    "\n",
    "Friday, June 11: all meet for 'dress rehearsal' of workshop, please fill out doodle poll to pick a time\n",
    "\n",
    "Monday, June 14: Workshop!"
   ]
  },
  {
   "cell_type": "code",
   "execution_count": null,
   "id": "095d1188",
   "metadata": {},
   "outputs": [],
   "source": []
  }
 ],
 "metadata": {
  "kernelspec": {
   "display_name": "R",
   "language": "R",
   "name": "ir"
  }
 },
 "nbformat": 4,
 "nbformat_minor": 5
}
